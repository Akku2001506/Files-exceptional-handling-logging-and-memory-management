{
  "nbformat": 4,
  "nbformat_minor": 0,
  "metadata": {
    "colab": {
      "provenance": []
    },
    "kernelspec": {
      "name": "python3",
      "display_name": "Python 3"
    },
    "language_info": {
      "name": "python"
    }
  },
  "cells": [
    {
      "cell_type": "markdown",
      "source": [
        "#Files, exceptional handling, logging and memory management"
      ],
      "metadata": {
        "id": "e7FnXBxrDLS7"
      }
    },
    {
      "cell_type": "markdown",
      "source": [
        "1. What is the difference between interpreted and compiled languages ?\n",
        "   -  Interpreted languages (like Python) execute code line by line at runtime, making them more flexible but slower. Compiled languages (like C++) are translated into machine code before execution, making them faster but less flexible.\n",
        "\n",
        "#Example : of Interpreted Language (Python)\n",
        "\n",
        "\n",
        "\n",
        "\n",
        "\n",
        ""
      ],
      "metadata": {
        "id": "LUnG1SgrDheL"
      }
    },
    {
      "cell_type": "code",
      "source": [
        "print(\"Hello, World!\")\n"
      ],
      "metadata": {
        "id": "zy97PY88EZnf"
      },
      "execution_count": null,
      "outputs": []
    },
    {
      "cell_type": "markdown",
      "source": [
        "#Example : of The Python interpreter reads and executes this line by line at runtime."
      ],
      "metadata": {
        "id": "c0wkNwHmEcSA"
      }
    },
    {
      "cell_type": "code",
      "source": [
        "#include <iostream>\n",
        "using namespace std;\n",
        "\n",
        "int main() {\n",
        "    cout << \"Hello, World!\" << endl;\n",
        "    return 0;\n",
        "}\n"
      ],
      "metadata": {
        "id": "QLB1zZcvEl9l"
      },
      "execution_count": null,
      "outputs": []
    },
    {
      "cell_type": "markdown",
      "source": [
        "2. What is exception handling in Python ?\n",
        "   -  Exception handling in Python is a mechanism to handle runtime errors and prevent program crashes. It uses try, except, else, and finally blocks to catch and manage exceptions.\n",
        "\n",
        "#Example :"
      ],
      "metadata": {
        "id": "0-ABArspEssc"
      }
    },
    {
      "cell_type": "code",
      "source": [
        "try:\n",
        "    x = 10 / 0  # This will cause a ZeroDivisionError\n",
        "except ZeroDivisionError:\n",
        "    print(\"Cannot divide by zero!\")\n"
      ],
      "metadata": {
        "id": "r4WWDeGnE-By"
      },
      "execution_count": null,
      "outputs": []
    },
    {
      "cell_type": "markdown",
      "source": [
        "3. What is the purpose of the finally block in exception handling ?\n",
        "   - The finally block in Python is used to execute code regardless of whether an exception occurs or not. It is typically used for cleanup actions like closing files or releasing resources.\n",
        "\n",
        "#Example :    "
      ],
      "metadata": {
        "id": "L8ugJyoRFJPy"
      }
    },
    {
      "cell_type": "code",
      "source": [
        "try:\n",
        "    x = 10 / 0\n",
        "except ZeroDivisionError:\n",
        "    print(\"Cannot divide by zero!\")\n",
        "finally:\n",
        "    print(\"This will always execute.\")\n"
      ],
      "metadata": {
        "id": "rDm6IaaMFbVq"
      },
      "execution_count": null,
      "outputs": []
    },
    {
      "cell_type": "markdown",
      "source": [
        "4. What is logging in Python ?\n",
        "   - Logging in Python is used to track events, errors, and debugging information during program execution. The logging module allows you to record messages at different severity levels (DEBUG, INFO, WARNING, ERROR, CRITICAL).\n",
        "\n",
        "#Example :"
      ],
      "metadata": {
        "id": "hEXoMx6rFkyM"
      }
    },
    {
      "cell_type": "code",
      "source": [
        "import logging\n",
        "\n",
        "logging.basicConfig(level=logging.INFO)\n",
        "logging.info(\"This is an info message.\")\n"
      ],
      "metadata": {
        "id": "XHSwIw9AFz-f"
      },
      "execution_count": null,
      "outputs": []
    },
    {
      "cell_type": "markdown",
      "source": [
        "5. What is the significance of the __del__ method in Python ?\n",
        "   -  The __del__ method in Python is a destructor that is called when an object is about to be destroyed (garbage collected). It is used for cleanup tasks like closing files or releasing resources.\n",
        "\n",
        "#Example :   \n"
      ],
      "metadata": {
        "id": "L63O8jTgF6A2"
      }
    },
    {
      "cell_type": "code",
      "source": [
        "class Example:\n",
        "    def __del__(self):\n",
        "        print(\"Object is being deleted\")\n",
        "\n",
        "obj = Example()\n",
        "del obj  # Triggers __del__ method\n"
      ],
      "metadata": {
        "id": "218DfXqXGOL_"
      },
      "execution_count": null,
      "outputs": []
    },
    {
      "cell_type": "markdown",
      "source": [
        "6. What is the difference between import and from ... import in Python ?\n",
        "   -  import module imports the entire module, and you access functions with module.function().\n",
        "   - from module import function imports only a specific function, allowing direct use without the module prefix.\n",
        "\n",
        "#Example :   "
      ],
      "metadata": {
        "id": "H9GUqlQ9GTbZ"
      }
    },
    {
      "cell_type": "code",
      "source": [
        "import math\n",
        "print(math.sqrt(16))  # Access via module name\n",
        "\n",
        "from math import sqrt\n",
        "print(sqrt(16))  # Direct access\n"
      ],
      "metadata": {
        "id": "LgnHs5LvGn85"
      },
      "execution_count": null,
      "outputs": []
    },
    {
      "cell_type": "markdown",
      "source": [
        "7. How can you handle multiple exceptions in Python ?\n",
        "   - You can handle multiple exceptions in Python using multiple except blocks or a single except block with a tuple of exceptions.\n",
        "\n",
        "#Example 1 : Multiple except blocks    "
      ],
      "metadata": {
        "id": "SDCVU80JGrgy"
      }
    },
    {
      "cell_type": "code",
      "source": [
        "try:\n",
        "    x = int(\"abc\")  # Causes ValueError\n",
        "except ValueError:\n",
        "    print(\"ValueError occurred\")\n",
        "except ZeroDivisionError:\n",
        "    print(\"Cannot divide by zero\")\n"
      ],
      "metadata": {
        "id": "YvqjqlU5HEiL"
      },
      "execution_count": null,
      "outputs": []
    },
    {
      "cell_type": "markdown",
      "source": [
        "#Example 2: Single except with a tuple"
      ],
      "metadata": {
        "id": "zjYqDWChHHv-"
      }
    },
    {
      "cell_type": "code",
      "source": [
        "try:\n",
        "    x = 10 / 0\n",
        "except (ValueError, ZeroDivisionError) as e:\n",
        "    print(f\"Exception occurred: {e}\")\n"
      ],
      "metadata": {
        "id": "ugqGiyK2HMyq"
      },
      "execution_count": null,
      "outputs": []
    },
    {
      "cell_type": "markdown",
      "source": [
        "8. What is the purpose of the with statement when handling files in Python ?\n",
        "   -  The with statement in Python is used for handling files to ensure they are properly closed after use, even if an exception occurs.\n",
        "\n",
        "#Example :    "
      ],
      "metadata": {
        "id": "xlNEGulUHQSb"
      }
    },
    {
      "cell_type": "code",
      "source": [
        "with open(\"file.txt\", \"r\") as file:\n",
        "    content = file.read()  # No need to manually close the file\n"
      ],
      "metadata": {
        "id": "b2pqEEBZHibQ"
      },
      "execution_count": null,
      "outputs": []
    },
    {
      "cell_type": "markdown",
      "source": [
        "9.  What is the difference between multithreading and multiprocessing ?\n",
        "    -  Multithreading: Uses multiple threads within the same process, sharing memory. Suitable for I/O-bound tasks.\n",
        "    - Multiprocessing: Uses multiple processes, each with its own memory space. Ideal for CPU-bound tasks.\n",
        "\n",
        "#Example :    "
      ],
      "metadata": {
        "id": "eZmzF-MgHmyp"
      }
    },
    {
      "cell_type": "code",
      "source": [
        "import threading, multiprocessing\n",
        "\n",
        "# Multithreading example\n",
        "def task():\n",
        "    print(\"Thread running\")\n",
        "\n",
        "t = threading.Thread(target=task)\n",
        "t.start()\n",
        "\n",
        "# Multiprocessing example\n",
        "def process_task():\n",
        "    print(\"Process running\")\n",
        "\n",
        "p = multiprocessing.Process(target=process_task)\n",
        "p.start()\n"
      ],
      "metadata": {
        "id": "zLpBgOnqH9nU"
      },
      "execution_count": null,
      "outputs": []
    },
    {
      "cell_type": "markdown",
      "source": [
        "10. What are the advantages of using logging in a program ?\n",
        "    -  1. Debugging – Helps track and diagnose issues.\n",
        "       2. Error Tracking – Captures exceptions and errors for analysis.\n",
        "       3. Flexible Levels – Supports different severity levels (DEBUG, INFO, WARNING, ERROR, CRITICAL).\n",
        "       4. Persistent Records – Stores logs in files for future reference.\n",
        "       5. Thread-Safe – Works well in multi-threaded applications.\n",
        "\n",
        "#Example :        "
      ],
      "metadata": {
        "id": "bpkxbznsICCS"
      }
    },
    {
      "cell_type": "code",
      "source": [
        "import logging\n",
        "logging.basicConfig(filename=\"app.log\", level=logging.INFO)\n",
        "logging.info(\"Application started\")\n"
      ],
      "metadata": {
        "id": "4q5DdqetIkWh"
      },
      "execution_count": null,
      "outputs": []
    },
    {
      "cell_type": "markdown",
      "source": [
        "11.  What is memory management in Python ?\n",
        "     - Memory management in Python is the process of allocating and deallocating memory for objects efficiently. It includes:\n",
        "\n",
        "     1. Automatic Garbage Collection – Unused objects are automatically deleted.\n",
        "     2. Reference Counting – Tracks the number of references to an object.\n",
        "     3. Dynamic Memory Allocation – Uses the heap for storing objects.\n",
        "     4. Memory Pools (PyMalloc) – Optimizes memory usage for small objects.\n",
        "\n",
        "#Example :     "
      ],
      "metadata": {
        "id": "v_hUFq1TIomC"
      }
    },
    {
      "cell_type": "code",
      "source": [
        "import sys\n",
        "x = [1, 2, 3]\n",
        "print(sys.getrefcount(x))  # Shows reference count\n"
      ],
      "metadata": {
        "id": "w4HkH1r4JHlr"
      },
      "execution_count": null,
      "outputs": []
    },
    {
      "cell_type": "markdown",
      "source": [
        "12. What are the basic steps involved in exception handling in Python ?\n",
        "    -  1. Try Block – Wrap code that may cause an exception.\n",
        "       2. Except Block – Handle specific or general exceptions.\n",
        "       3. Else Block (Optional) – Executes if no exception occurs.\n",
        "       4. Finally Block (Optional) – Executes cleanup code, regardless of exceptions.\n",
        "\n",
        "#Example :        "
      ],
      "metadata": {
        "id": "MYeqh8mBJMtL"
      }
    },
    {
      "cell_type": "code",
      "source": [
        "try:\n",
        "    x = 10 / 0  # Causes an exception\n",
        "except ZeroDivisionError:\n",
        "    print(\"Cannot divide by zero\")\n",
        "else:\n",
        "    print(\"No errors occurred\")\n",
        "finally:\n",
        "    print(\"Execution completed\")\n"
      ],
      "metadata": {
        "id": "csuoJwzRJo0J"
      },
      "execution_count": null,
      "outputs": []
    },
    {
      "cell_type": "markdown",
      "source": [
        "13. Why is memory management important in Python ?\n",
        "    - 1.   Efficient Resource Utilization – Prevents memory leaks and optimizes performance.\n",
        "      2. Automatic Garbage Collection – Frees up unused memory.\n",
        "      3. Prevents Crashes – Avoids excessive memory consumption.\n",
        "      4. Improves Scalability – Handles large datasets efficiently\n",
        "      "
      ],
      "metadata": {
        "id": "Ng-4V0FQJqpB"
      }
    },
    {
      "cell_type": "markdown",
      "source": [
        "14.  What is the role of try and except in exception handling ?\n",
        "     -  try Block – Contains code that may raise an exception.\n",
        "     - except Block – Catches and handles specific or general exceptions to prevent program crashes.\n",
        "\n",
        "#Example :     "
      ],
      "metadata": {
        "id": "G4ATsdnqKJzC"
      }
    },
    {
      "cell_type": "code",
      "source": [
        "try:\n",
        "    x = 10 / 0  # Causes an exception\n",
        "except ZeroDivisionError:\n",
        "    print(\"Cannot divide by zero\")\n"
      ],
      "metadata": {
        "id": "LIwz4DydKcyx"
      },
      "execution_count": null,
      "outputs": []
    },
    {
      "cell_type": "markdown",
      "source": [
        "15. How does Python's garbage collection system work ?\n",
        "    -  Python's garbage collection automatically manages memory using:\n",
        "\n",
        "     1.  Reference Counting – An object is deleted when its reference count reaches zero.\n",
        "     2. Garbage Collector (GC) – Handles cyclic references that reference counting can't.\n",
        "     3. Generational Collection – Groups objects into three generations and collects garbage efficiently.\n",
        "\n",
        "#Example :     "
      ],
      "metadata": {
        "id": "hDcjcIBmKd9i"
      }
    },
    {
      "cell_type": "code",
      "source": [
        "import gc\n",
        "gc.collect()  # Manually triggers garbage collection\n"
      ],
      "metadata": {
        "id": "BFv8r9AqK-j4"
      },
      "execution_count": null,
      "outputs": []
    },
    {
      "cell_type": "markdown",
      "source": [
        "16. What is the purpose of the else block in exception handling ?\n",
        "    -  The else block in Python runs if no exceptions occur in the try block. It is used for code that should only execute when no errors are raised.\n",
        "\n",
        "#Example :   \n"
      ],
      "metadata": {
        "id": "VtX_aSZcK_tR"
      }
    },
    {
      "cell_type": "code",
      "source": [
        "try:\n",
        "    x = 10 / 2  # No exception\n",
        "except ZeroDivisionError:\n",
        "    print(\"Cannot divide by zero\")\n",
        "else:\n",
        "    print(\"Division successful!\")  # Runs only if no exception occurs\n"
      ],
      "metadata": {
        "id": "XrOmbPDCLSag"
      },
      "execution_count": null,
      "outputs": []
    },
    {
      "cell_type": "markdown",
      "source": [
        "17.  What are the common logging levels in Python ?\n",
        "     -  Python's logging module provides five standard logging levels:\n",
        "        \n",
        "        1. DEBUG – Detailed information for debugging.\n",
        "        2. INFO – General information about program execution.\n",
        "        3. WARNING – Indicates a potential issue.\n",
        "        4. ERROR – A serious error occurred.\n",
        "        5. CRITICAL – A critical failure requiring immediate attention.\n",
        "\n",
        "#Example :        "
      ],
      "metadata": {
        "id": "fzR5eRIeLTi4"
      }
    },
    {
      "cell_type": "code",
      "source": [
        "import logging\n",
        "logging.basicConfig(level=logging.DEBUG)\n",
        "logging.debug(\"This is a debug message\")\n",
        "logging.info(\"This is an info message\")\n",
        "logging.warning(\"This is a warning\")\n",
        "logging.error(\"This is an error\")\n",
        "logging.critical(\"This is critical\")\n"
      ],
      "metadata": {
        "id": "NwW48iNgL4ja"
      },
      "execution_count": null,
      "outputs": []
    },
    {
      "cell_type": "markdown",
      "source": [
        "18.  What is the difference between os.fork() and multiprocessing in Python ?\n",
        "     -   1. os.fork()\n",
        "        - Creates a child process by duplicating the parent process.\n",
        "        - Works only on Unix-based systems (not Windows).\n",
        "        - Requires manual handling of inter-process communication.\n",
        "\n",
        "#Example:         "
      ],
      "metadata": {
        "id": "95E_lumwL8QY"
      }
    },
    {
      "cell_type": "code",
      "source": [
        "import os\n",
        "pid = os.fork()\n",
        "if pid == 0:\n",
        "    print(\"Child process\")\n",
        "else:\n",
        "    print(\"Parent process\")\n"
      ],
      "metadata": {
        "id": "xIpvHwV_Mpvs"
      },
      "execution_count": null,
      "outputs": []
    },
    {
      "cell_type": "markdown",
      "source": [
        " - 2. multiprocessing Module\n",
        "    - Cross-platform (works on Windows and Unix).\n",
        "    - Provides higher-level process management.\n",
        "    - Handles inter-process communication automatically.\n",
        "\n",
        "#Example:    \n"
      ],
      "metadata": {
        "id": "KAoW0dhMMsxQ"
      }
    },
    {
      "cell_type": "code",
      "source": [
        "from multiprocessing import Process\n",
        "\n",
        "def task():\n",
        "    print(\"New process running\")\n",
        "\n",
        "p = Process(target=task)\n",
        "p.start()\n",
        "p.join()\n"
      ],
      "metadata": {
        "id": "_i-LCSGtNUrf"
      },
      "execution_count": null,
      "outputs": []
    },
    {
      "cell_type": "markdown",
      "source": [
        "19. What is the importance of closing a file in Python ?\n",
        "    -  1. Frees System Resources – Releases memory and file handles.\n",
        "       2. Prevents Data Loss – Ensures all data is written to the file.\n",
        "       3. Avoids File Corruption – Prevents issues with concurrent access.\n",
        "       4. Ensures Proper File Handling – Avoids errors in future operations.\n",
        "#Example:\n"
      ],
      "metadata": {
        "id": "XSfqTJx8NZD5"
      }
    },
    {
      "cell_type": "code",
      "source": [
        "file = open(\"example.txt\", \"w\")\n",
        "file.write(\"Hello, World!\")\n",
        "file.close()  # Important to close the file\n"
      ],
      "metadata": {
        "id": "ZHRPQ0-0N1LP"
      },
      "execution_count": null,
      "outputs": []
    },
    {
      "cell_type": "markdown",
      "source": [
        "Using with open(...) automatically closes the file."
      ],
      "metadata": {
        "id": "sb2b0r3UN7gA"
      }
    },
    {
      "cell_type": "code",
      "source": [
        "with open(\"example.txt\", \"w\") as file:\n",
        "    file.write(\"Hello, World!\")  # No need to manually close\n"
      ],
      "metadata": {
        "id": "bLykLDD0N914"
      },
      "execution_count": null,
      "outputs": []
    },
    {
      "cell_type": "markdown",
      "source": [
        "20.  What is the difference between file.read() and file.readline() in Python ?\n",
        "      -  1. file.read(size)\n",
        "       - Reads the entire file or a specified number of bytes.\n",
        "       - Returns a single string.\n",
        "\n",
        "#Example :       "
      ],
      "metadata": {
        "id": "GBXOif0POE8N"
      }
    },
    {
      "cell_type": "code",
      "source": [
        "with open(\"example.txt\", \"r\") as file:\n",
        "    content = file.read()  # Reads the whole file\n",
        "    print(content)\n",
        "\n"
      ],
      "metadata": {
        "id": "9SWhTZubOkA6"
      },
      "execution_count": null,
      "outputs": []
    },
    {
      "cell_type": "markdown",
      "source": [
        "-  2. file.readline()\n",
        " - Reads only one line at a time.\n",
        " - Useful for processing files line by line.\n",
        "\n",
        "#Example :"
      ],
      "metadata": {
        "id": "xM4xmvzzOrDJ"
      }
    },
    {
      "cell_type": "code",
      "source": [
        "with open(\"example.txt\", \"r\") as file:\n",
        "    line = file.readline()  # Reads one line\n",
        "    print(line)\n"
      ],
      "metadata": {
        "id": "VSWwO5PxPG_O"
      },
      "execution_count": null,
      "outputs": []
    },
    {
      "cell_type": "markdown",
      "source": [
        "21. What is the logging module in Python used for ?\n",
        "    -  The logging module is used for tracking events, debugging, and recording messages in a program. It helps monitor code execution and handle errors efficiently.\n",
        "#Example :\n"
      ],
      "metadata": {
        "id": "oFA3ltAIPKhw"
      }
    },
    {
      "cell_type": "code",
      "source": [
        "import logging\n",
        "\n",
        "logging.basicConfig(level=logging.INFO)\n",
        "logging.info(\"This is an info message\")\n"
      ],
      "metadata": {
        "id": "8mX-AYahPZ-W"
      },
      "execution_count": null,
      "outputs": []
    },
    {
      "cell_type": "markdown",
      "source": [
        "22.  What is the os module in Python used for in file handling ?\n",
        "     -  The os module provides functions to interact with the operating system, including file and directory operations.\n",
        "\n",
        "#Common Uses:      \n",
        "  - 1. Common Uses:"
      ],
      "metadata": {
        "id": "M5l-T8FePfOV"
      }
    },
    {
      "cell_type": "code",
      "source": [
        "import os\n",
        "os.mkdir(\"new_folder\")\n"
      ],
      "metadata": {
        "id": "6nYXmyiMP6aP"
      },
      "execution_count": null,
      "outputs": []
    },
    {
      "cell_type": "markdown",
      "source": [
        "2. Remove a File:"
      ],
      "metadata": {
        "id": "OdRvCRUdP9mX"
      }
    },
    {
      "cell_type": "code",
      "source": [
        "os.remove(\"file.txt\")\n"
      ],
      "metadata": {
        "id": "shorQYQRQEb8"
      },
      "execution_count": null,
      "outputs": []
    },
    {
      "cell_type": "markdown",
      "source": [
        "3. Check if a File Exists:"
      ],
      "metadata": {
        "id": "VDwBU_bnQHNc"
      }
    },
    {
      "cell_type": "code",
      "source": [
        "os.path.exists(\"file.txt\")\n",
        ""
      ],
      "metadata": {
        "id": "J3PVZ1vXQK9h"
      },
      "execution_count": null,
      "outputs": []
    },
    {
      "cell_type": "markdown",
      "source": [
        "4. List Files in a Directory:"
      ],
      "metadata": {
        "id": "gAm9JM2KQN7n"
      }
    },
    {
      "cell_type": "code",
      "source": [
        "os.listdir(\".\")\n"
      ],
      "metadata": {
        "id": "Gm7duxQ2QRh9"
      },
      "execution_count": null,
      "outputs": []
    },
    {
      "cell_type": "markdown",
      "source": [
        "5. Rename a File:"
      ],
      "metadata": {
        "id": "XMWwJpOaQUcf"
      }
    },
    {
      "cell_type": "code",
      "source": [
        "os.rename(\"old.txt\", \"new.txt\")\n"
      ],
      "metadata": {
        "id": "XXs6jpl9QYuh"
      },
      "execution_count": null,
      "outputs": []
    },
    {
      "cell_type": "markdown",
      "source": [
        "23.  What are the challenges associated with memory management in Python ?\n",
        "     -  1. Garbage Collection Overhead – Frequent garbage collection can impact performance.\n",
        "        2. Memory Leaks – Objects with circular references may not be freed immediately.\n",
        "        3. High Memory Usage – Python’s dynamic typing and memory allocation can increase memory consumption.\n",
        "        4. Global Interpreter Lock (GIL) – Limits true parallel execution in multi-threading, affecting performance.\n",
        "        5. Fragmentation – Memory fragmentation can occur due to frequent allocation and deallocation.\n",
        "\n",
        "#Example : (Circular Reference Causing a Memory Leak):\n",
        "\n",
        "\n",
        "        "
      ],
      "metadata": {
        "id": "TToEzvTJQblW"
      }
    },
    {
      "cell_type": "code",
      "source": [
        "import gc\n",
        "class A:\n",
        "    def __init__(self):\n",
        "        self.ref = self\n",
        "\n",
        "obj = A()\n",
        "del obj  # Object is not immediately freed due to circular reference\n",
        "gc.collect()  # Forces garbage collection\n"
      ],
      "metadata": {
        "id": "HkqG-dkSRCA8"
      },
      "execution_count": null,
      "outputs": []
    },
    {
      "cell_type": "markdown",
      "source": [
        "24. How do you raise an exception manually in Python ?\n",
        "    -  You can manually raise an exception using the raise keyword.\n",
        "\n",
        "#Example:    "
      ],
      "metadata": {
        "id": "a1FgAV96RF1Z"
      }
    },
    {
      "cell_type": "code",
      "source": [
        "raise ValueError(\"This is a custom error message\")\n"
      ],
      "metadata": {
        "id": "C3BIeuIXRVRo"
      },
      "execution_count": null,
      "outputs": []
    },
    {
      "cell_type": "markdown",
      "source": [
        "- Using raise Inside a Function:\n",
        "\n"
      ],
      "metadata": {
        "id": "JRjiRwGzRYB0"
      }
    },
    {
      "cell_type": "code",
      "source": [
        "def check_age(age):\n",
        "    if age < 18:\n",
        "        raise ValueError(\"Age must be 18 or above\")\n",
        "    else:\n",
        "        print(\"Access granted\")\n",
        "\n",
        "check_age(16)  # Raises ValueError\n"
      ],
      "metadata": {
        "id": "C1oMF_KtRdpD"
      },
      "execution_count": null,
      "outputs": []
    },
    {
      "cell_type": "markdown",
      "source": [
        "25. Why is it important to use multithreading in certain applications ?\n",
        "    -  1. Improves Performance for I/O-bound Tasks – Efficient for tasks like file I/O, network requests, and database queries.\n",
        "       2. Concurrent Execution – Allows multiple tasks to run simultaneously, improving responsiveness.\n",
        "       3. Better Resource Utilization – Maximizes CPU usage when dealing with multiple waiting operations.\n",
        "       4. Faster Execution in GUI Applications – Prevents UI freezing by running tasks in the background.\n",
        "       5. Efficient Task Management – Useful in web scraping, logging, and real-time applications.\n",
        "\n",
        "#Example :       \n"
      ],
      "metadata": {
        "id": "alJsHJ1mRg6y"
      }
    },
    {
      "cell_type": "code",
      "source": [
        "import threading\n",
        "\n",
        "def task():\n",
        "    print(\"Thread is running\")\n",
        "\n",
        "t = threading.Thread(target=task)\n",
        "t.start()\n",
        "t.join()\n"
      ],
      "metadata": {
        "id": "ZyCQ44kfSH2X"
      },
      "execution_count": null,
      "outputs": []
    },
    {
      "cell_type": "markdown",
      "source": [
        "#Practical Questions"
      ],
      "metadata": {
        "id": "HSur4jFySQuM"
      }
    },
    {
      "cell_type": "markdown",
      "source": [
        "1. How can you open a file for writing in Python and write a string to it ?"
      ],
      "metadata": {
        "id": "_QzqR6KoSSNv"
      }
    },
    {
      "cell_type": "code",
      "source": [
        "with open(\"example.txt\", \"w\") as file:\n",
        "    file.write(\"Hello, World!\")\n"
      ],
      "metadata": {
        "id": "PwHQLrrvSXrC"
      },
      "execution_count": null,
      "outputs": []
    },
    {
      "cell_type": "markdown",
      "source": [
        "2. Write a Python program to read the contents of a file and print each line ."
      ],
      "metadata": {
        "id": "8fMGkCJVSdbr"
      }
    },
    {
      "cell_type": "code",
      "source": [
        "# Open the file in read mode and print each line\n",
        "with open(\"example.txt\", \"r\") as file:\n",
        "    for line in file:\n",
        "        print(line.strip())  # strip() removes extra spaces and newline characters\n"
      ],
      "metadata": {
        "id": "GJbxK_g0Sh7K"
      },
      "execution_count": null,
      "outputs": []
    },
    {
      "cell_type": "markdown",
      "source": [
        "3. How would you handle a case where the file doesn't exist while trying to open it for reading ?"
      ],
      "metadata": {
        "id": "jJmbDZnJSojx"
      }
    },
    {
      "cell_type": "code",
      "source": [
        "try:\n",
        "    with open(\"nonexistent_file.txt\", \"r\") as file:\n",
        "        content = file.read()\n",
        "        print(content)\n",
        "except FileNotFoundError:\n",
        "    print(\"Error: The file does not exist.\")\n"
      ],
      "metadata": {
        "id": "umWdgytQSuKL"
      },
      "execution_count": null,
      "outputs": []
    },
    {
      "cell_type": "markdown",
      "source": [
        "4. Write a Python script that reads from one file and writes its content to another file ."
      ],
      "metadata": {
        "id": "NBXD5-QKSzuL"
      }
    },
    {
      "cell_type": "code",
      "source": [
        "# Open the source file in read mode and the destination file in write mode\n",
        "with open(\"source.txt\", \"r\") as source_file, open(\"destination.txt\", \"w\") as dest_file:\n",
        "    content = source_file.read()  # Read content from source file\n",
        "    dest_file.write(content)  # Write content to destination file\n",
        "\n",
        "print(\"File copied successfully!\")\n"
      ],
      "metadata": {
        "id": "_1t12xbXS5Ba"
      },
      "execution_count": null,
      "outputs": []
    },
    {
      "cell_type": "markdown",
      "source": [
        "5. How would you catch and handle division by zero error in Python ?\n"
      ],
      "metadata": {
        "id": "NuAZahKzS_Cm"
      }
    },
    {
      "cell_type": "code",
      "source": [
        "# Open the source file in read mode and the destination file in write mode\n",
        "with open(\"source.txt\", \"r\") as source_file, open(\"destination.txt\", \"w\") as dest_file:\n",
        "    content = source_file.read()  # Read content from source file\n",
        "    dest_file.write(content)  # Write content to destination file\n",
        "\n",
        "print(\"File copied successfully!\")\n"
      ],
      "metadata": {
        "id": "X6ct3e82TRwV"
      },
      "execution_count": null,
      "outputs": []
    },
    {
      "cell_type": "markdown",
      "source": [
        "6. Write a Python program that logs an error message to a log file when a division by zero exception occurs ."
      ],
      "metadata": {
        "id": "OzyT64NZTb-X"
      }
    },
    {
      "cell_type": "code",
      "source": [
        "import logging\n",
        "\n",
        "# Configure logging to write errors to a file\n",
        "logging.basicConfig(filename=\"error.log\", level=logging.ERROR,\n",
        "                    format=\"%(asctime)s - %(levelname)s - %(message)s\")\n",
        "\n",
        "try:\n",
        "    result = 10 / 0  # This will raise a ZeroDivisionError\n",
        "except ZeroDivisionError:\n",
        "    logging.error(\"Attempted to divide by zer\n"
      ],
      "metadata": {
        "id": "I8lAF8XfThfG"
      },
      "execution_count": null,
      "outputs": []
    },
    {
      "cell_type": "markdown",
      "source": [
        "7. How do you log information at different levels (INFO, ERROR, WARNING) in Python using the logging module ?"
      ],
      "metadata": {
        "id": "U70kzzh5TmzT"
      }
    },
    {
      "cell_type": "code",
      "source": [
        "import logging\n",
        "\n",
        "# Configure logging to display messages in the console and write to a file\n",
        "logging.basicConfig(filename=\"app.log\", level=logging.DEBUG,\n",
        "                    format=\"%(asctime)s - %(levelname)s - %(message)s\")\n",
        "\n",
        "# Logging messages at different levels\n",
        "logging.debug(\"This is a DEBUG message\")      # Detailed information for debugging\n",
        "logging.info(\"This is an INFO message\")       # General information\n",
        "logging.warning(\"This is a WARNING message\")  # Warning about potential issues\n",
        "logging.error(\"This is an ERROR message\")     # A serious problem occurred\n",
        "logging.critical(\"This is a CRITICAL message\") # A critical failure\n",
        "\n",
        "print(\"Logging complete. Check 'app.log' for details.\")\n"
      ],
      "metadata": {
        "id": "IEqSw5SbTr1a"
      },
      "execution_count": null,
      "outputs": []
    },
    {
      "cell_type": "markdown",
      "source": [
        "8. Write a program to handle a file opening error using exception handling ."
      ],
      "metadata": {
        "id": "Di4hKZ1jTzyb"
      }
    },
    {
      "cell_type": "code",
      "source": [
        "try:\n",
        "    with open(\"nonexistent_file.txt\", \"r\") as file:\n",
        "        content = file.read()\n",
        "        print(content)\n",
        "except FileNotFoundError:\n",
        "    print(\"Error: The file does not exist. Please check the file name and try again.\")\n",
        "except PermissionError:\n",
        "    print(\"Error: You do not have\n"
      ],
      "metadata": {
        "id": "7SpgpI5HT4u_"
      },
      "execution_count": null,
      "outputs": []
    },
    {
      "cell_type": "markdown",
      "source": [
        "9. How can you read a file line by line and store its content in a list in Python ?\n",
        "\n",
        "#Example 1: Using readlines()"
      ],
      "metadata": {
        "id": "6uc20E7xT-aL"
      }
    },
    {
      "cell_type": "code",
      "source": [
        "with open(\"example.txt\", \"r\") as file:\n",
        "    lines = file.readlines()  # Reads all lines and stores them in a list\n",
        "\n",
        "print(lines)  # Output: ['Line 1\\n', 'Line 2\\n', 'Line 3\\n']\n"
      ],
      "metadata": {
        "id": "xvWDnRFLUMOF"
      },
      "execution_count": null,
      "outputs": []
    },
    {
      "cell_type": "markdown",
      "source": [
        "#Example 2: Using a Loop (Memory Efficient)"
      ],
      "metadata": {
        "id": "DuguB9nLUQf_"
      }
    },
    {
      "cell_type": "code",
      "source": [
        "with open(\"example.txt\", \"r\") as file:\n",
        "    lines = [line.strip() for line in file]  # Reads line by line and removes newline characters\n",
        "\n",
        "print(lines)  # Output: ['Line 1', 'Line 2', 'Line 3']\n"
      ],
      "metadata": {
        "id": "yWawDbfyUDRY"
      },
      "execution_count": null,
      "outputs": []
    },
    {
      "cell_type": "markdown",
      "source": [
        "10. How can you append data to an existing file in Python ?\n"
      ],
      "metadata": {
        "id": "ULA49GBOUcWk"
      }
    },
    {
      "cell_type": "code",
      "source": [
        "with open(\"example.txt\", \"a\") as file:\n",
        "    file.write(\"\\nThis is an appended line.\")\n"
      ],
      "metadata": {
        "id": "OhvXDVoWUkim"
      },
      "execution_count": null,
      "outputs": []
    },
    {
      "cell_type": "markdown",
      "source": [
        "11. Write a Python program that uses a try-except block to handle an error when attempting to access a\n",
        "dictionary key that doesn't exist."
      ],
      "metadata": {
        "id": "dteb7Gf4UnIe"
      }
    },
    {
      "cell_type": "code",
      "source": [
        "try:\n",
        "    my_dict = {\"name\": \"Alice\", \"age\": 25}\n",
        "    print(my_dict[\"city\"])  # Key \"city\" does not exist\n",
        "except KeyError:\n",
        "    print(\"Error: The specified key does not exist in the dictionary.\")\n"
      ],
      "metadata": {
        "id": "A0GfvWNRVO5s"
      },
      "execution_count": null,
      "outputs": []
    },
    {
      "cell_type": "markdown",
      "source": [
        "12. Write a program that demonstrates using multiple except blocks to handle different types of exceptions ."
      ],
      "metadata": {
        "id": "y-YvNjoCVU-S"
      }
    },
    {
      "cell_type": "code",
      "source": [
        "try:\n",
        "    num1 = int(input(\"Enter a number: \"))\n",
        "    num2 = int(input(\"Enter another number: \"))\n",
        "    result = num1 / num2  # Might raise ZeroDivisionError\n",
        "    my_list = [1, 2, 3]\n",
        "    print(my_list[5])  # Might raise IndexError\n",
        "except ValueError:\n",
        "    print(\"Error: Invalid input! Please enter a valid integer.\")\n",
        "except ZeroDivisionError:\n",
        "    print(\"Error: Division by zero is not allowed.\")\n",
        "except IndexError:\n",
        "    print(\"Error: List index out of range.\")\n",
        "except Exception as e:\n",
        "    print(f\"An unexpected error occurred: {e}\")\n"
      ],
      "metadata": {
        "id": "qstI0MViWCyT"
      },
      "execution_count": null,
      "outputs": []
    },
    {
      "cell_type": "markdown",
      "source": [
        "13. How would you check if a file exists before attempting to read it in Python ?\n",
        "\n",
        "#Method 1: Using os.path.exists()"
      ],
      "metadata": {
        "id": "cetC2DO6WIg2"
      }
    },
    {
      "cell_type": "code",
      "source": [
        "import os\n",
        "\n",
        "file_path = \"example.txt\"\n",
        "\n",
        "if os.path.exists(file_path):\n",
        "    with open(file_path, \"r\") as file:\n",
        "        content = file.read()\n",
        "        print(content)\n",
        "else:\n",
        "    print(\"Error: File does not exist.\")\n"
      ],
      "metadata": {
        "id": "c9ngaSxlWN52"
      },
      "execution_count": null,
      "outputs": []
    },
    {
      "cell_type": "markdown",
      "source": [
        "#Method 2: Using pathlib (Recommended for Modern Python)"
      ],
      "metadata": {
        "id": "8E38kU-cWaDQ"
      }
    },
    {
      "cell_type": "code",
      "source": [
        "from pathlib import Path\n",
        "\n",
        "file_path = Path(\"example.txt\")\n",
        "\n",
        "if file_path.is_file():  # Checks if the file exists\n",
        "    with file_path.open(\"r\") as file:\n",
        "        content = file.read()\n",
        "        print(content)\n",
        "else:\n",
        "    print(\"Error: File does not exist.\")\n"
      ],
      "metadata": {
        "id": "o-EZzq1TWhyI"
      },
      "execution_count": null,
      "outputs": []
    },
    {
      "cell_type": "markdown",
      "source": [
        "14.  Write a program that uses the logging module to log both informational and error messages."
      ],
      "metadata": {
        "id": "Cru66PE8Wlou"
      }
    },
    {
      "cell_type": "code",
      "source": [
        "import logging\n",
        "\n",
        "# Configure logging to write messages to a file\n",
        "logging.basicConfig(filename=\"app.log\", level=logging.DEBUG,\n",
        "                    format=\"%(asctime)s - %(levelname)s - %(message)s\")\n",
        "\n",
        "# Log an informational message\n",
        "logging.info(\"Program started successfully.\")\n",
        "\n",
        "try:\n",
        "    num1 = int(input(\"Enter a number: \"))\n",
        "    num2 = int(input(\"Enter another number: \"))\n",
        "    result = num1 / num2  # May raise ZeroDivisionError\n",
        "    logging.info(f\"Division successful: {num1} / {num2} = {result}\")\n",
        "except ZeroDivisionError:\n",
        "    logging.error(\"Error: Attempted to divide by zero.\")\n",
        "    print(\"Error: Cannot divide by zero!\")\n",
        "except ValueError:\n",
        "    logging.error(\"Error: Invalid input. Non-integer value entered.\")\n",
        "    print(\"Error: Please enter valid integers.\")\n",
        "except Exception as e:\n",
        "    logging.error(f\"Unexpected error: {e}\")\n",
        "    print(f\"An unexpected error occurred: {e}\")\n",
        "\n",
        "print(\"Check 'app.log' for details.\")\n"
      ],
      "metadata": {
        "id": "w63WUfvOWpla"
      },
      "execution_count": null,
      "outputs": []
    },
    {
      "cell_type": "markdown",
      "source": [
        "15. Write a Python program that prints the content of a file and handles the case when the file is empty ."
      ],
      "metadata": {
        "id": "H9Y5malnWyzO"
      }
    },
    {
      "cell_type": "code",
      "source": [
        "import os\n",
        "\n",
        "file_path = \"example.txt\"  # Change this to your file name\n",
        "\n",
        "try:\n",
        "    if os.path.exists(file_path):  # Check if file exists\n",
        "        with open(file_path, \"r\") as file:\n",
        "            content = file.read().strip()  # Read and remove extra spaces\n",
        "            if content:  # Check if file is not empty\n",
        "                print(\"File Content:\\n\", content)\n",
        "            else:\n",
        "                print(\"The file is empty.\")\n",
        "    else:\n",
        "        print(\"Error: The file does not exist.\")\n",
        "except Exception as e:\n",
        "    print(f\"An error occurred: {e}\")\n"
      ],
      "metadata": {
        "id": "9ueD01VTXAjZ"
      },
      "execution_count": null,
      "outputs": []
    },
    {
      "cell_type": "markdown",
      "source": [
        "16.  Demonstrate how to use memory profiling to check the memory usage of a small program .\n",
        "\n",
        "#Step 1: Install memory_profiler (if not already installed)"
      ],
      "metadata": {
        "id": "w8atrIvlXCmX"
      }
    },
    {
      "cell_type": "code",
      "source": [
        "pip install memory-profiler\n"
      ],
      "metadata": {
        "id": "pA0U9FNhXNR3"
      },
      "execution_count": null,
      "outputs": []
    },
    {
      "cell_type": "markdown",
      "source": [
        "#Step 2: Write a Python Program with Memory Profiling"
      ],
      "metadata": {
        "id": "-ncQHQ5-XP_z"
      }
    },
    {
      "cell_type": "code",
      "source": [
        "from memory_profiler import profile\n",
        "\n",
        "@profile  # Decorator to measure memory usage of this function\n",
        "def my_function():\n",
        "    data = [i for i in range(100000)]  # Creates a large list\n",
        "    return sum(data)\n",
        "\n",
        "if __name__ == \"__main__\":\n",
        "    my_function()\n"
      ],
      "metadata": {
        "id": "T7OY3BqYXTbv"
      },
      "execution_count": null,
      "outputs": []
    },
    {
      "cell_type": "markdown",
      "source": [
        "#Step 3: Run the Script\n",
        "\n",
        "Run the script normally, and it will display memory usage details line by line."
      ],
      "metadata": {
        "id": "wSoT6HVeXXsV"
      }
    },
    {
      "cell_type": "code",
      "source": [
        "python my_script.py\n"
      ],
      "metadata": {
        "id": "JjMq-X1jXdsn"
      },
      "execution_count": null,
      "outputs": []
    },
    {
      "cell_type": "markdown",
      "source": [
        "#Alternative: Using memory_usage() for Real-Time Monitoring\n",
        "\n"
      ],
      "metadata": {
        "id": "iAVsYIKBXgx1"
      }
    },
    {
      "cell_type": "code",
      "source": [
        "from memory_profiler import memory_usage\n",
        "\n",
        "def my_function():\n",
        "    data = [i for i in range(100000)]\n",
        "    return sum(data)\n",
        "\n",
        "mem_usage = memory_usage(my_function)  # Measure memory usage\n",
        "print(f\"Memory used: {max(mem_usage)} MB\")\n"
      ],
      "metadata": {
        "id": "i1kY4gN0XoH-"
      },
      "execution_count": null,
      "outputs": []
    },
    {
      "cell_type": "markdown",
      "source": [
        "17. Write a Python program to create and write a list of numbers to a file, one number per line ."
      ],
      "metadata": {
        "id": "3X0oH0f1Xq7g"
      }
    },
    {
      "cell_type": "code",
      "source": [
        "# Define a list of numbers\n",
        "numbers = [10, 20, 30, 40, 50]\n",
        "\n",
        "# Open the file in write mode and write each number on a new line\n",
        "with open(\"numbers.txt\", \"w\") as file:\n",
        "    for number in numbers:\n",
        "        file.write(f\"{number}\\n\")\n",
        "\n",
        "print(\"Numbers written to 'numbers.txt' successfully!\")\n"
      ],
      "metadata": {
        "id": "D955Yy5qX2nX"
      },
      "execution_count": null,
      "outputs": []
    },
    {
      "cell_type": "markdown",
      "source": [
        "18.  How would you implement a basic logging setup that logs to a file with rotation after 1MB ?\n",
        " -  quick and easy way to set up logging with rotation after 1MB using Python’s logging module and RotatingFileHandler:\n",
        "\n",
        "#Code:\n"
      ],
      "metadata": {
        "id": "Y0qpPaAaX4Fs"
      }
    },
    {
      "cell_type": "code",
      "source": [
        "import logging\n",
        "from logging.handlers import RotatingFileHandler\n",
        "\n",
        "# Set up logging with rotation\n",
        "log_file = \"app.log\"\n",
        "max_size = 1 * 1024 * 1024  # 1MB\n",
        "backup_count = 3  # Keep 3 old log files\n",
        "\n",
        "# Configure the logger\n",
        "logging.basicConfig(\n",
        "    handlers=[RotatingFileHandler(log_file, maxBytes=max_size, backupCount=backup_count)],\n",
        "    level=logging.DEBUG,\n",
        "    format=\"%(asctime)s - %(levelname)s - %(message)s\"\n",
        ")\n",
        "\n",
        "# Log some messages for testing\n",
        "logging.info(\"Logging started. This will rotate after 1MB.\")\n",
        "logging.debug(\"This is a debug message.\")\n",
        "logging.warning(\"This is a warning message.\")\n",
        "logging.error(\"Oops, an error happened!\")\n"
      ],
      "metadata": {
        "id": "VCfmNK1jYYEe"
      },
      "execution_count": null,
      "outputs": []
    },
    {
      "cell_type": "markdown",
      "source": [
        "19. Write a program that handles both IndexError and KeyError using a try-except block ."
      ],
      "metadata": {
        "id": "4rglsGGDYfy9"
      }
    },
    {
      "cell_type": "code",
      "source": [
        "try:\n",
        "    # Example list and dictionary\n",
        "    my_list = [1, 2, 3]\n",
        "    my_dict = {\"name\": \"Alice\", \"age\": 25}\n",
        "\n",
        "    # Trying to access an out-of-range index (may raise IndexError)\n",
        "    print(my_list[5])\n",
        "\n",
        "    # Trying to access a non-existent dictionary key (may raise KeyError)\n",
        "    print(my_dict[\"city\"])\n",
        "\n",
        "except IndexError:\n",
        "    print(\"Error: List index out of range.\")\n",
        "except KeyError:\n",
        "    print(\"Error: Dictionary key not found.\")\n",
        "except Exception as e:\n",
        "    print(f\"An unexpected error occurred: {e}\")\n"
      ],
      "metadata": {
        "id": "wyrJwFO2YpqE"
      },
      "execution_count": null,
      "outputs": []
    },
    {
      "cell_type": "markdown",
      "source": [
        "20. How would you open a file and read its contents using a context manager in Python ?"
      ],
      "metadata": {
        "id": "w8nIjWsIYqlT"
      }
    },
    {
      "cell_type": "code",
      "source": [
        "try:\n",
        "    # Example list and dictionary\n",
        "    my_list = [1, 2, 3]\n",
        "    my_dict = {\"name\": \"Alice\", \"age\": 25}\n",
        "\n",
        "    # Trying to access an out-of-range index (may raise IndexError)\n",
        "    print(my_list[5])\n",
        "\n",
        "    # Trying to access a non-existent dictionary key (may raise KeyError)\n",
        "    print(my_dict[\"city\"])\n",
        "\n",
        "except IndexError:\n",
        "    print(\"Error: List index out of range.\")\n",
        "except KeyError:\n",
        "    print(\"Error: Dictionary key not found.\")\n",
        "except Exception as e:\n",
        "    print(f\"An unexpected error occurred: {e}\")\n"
      ],
      "metadata": {
        "id": "nihdlaVsY1-K"
      },
      "execution_count": null,
      "outputs": []
    },
    {
      "cell_type": "markdown",
      "source": [
        "21.  Write a Python program that reads a file and prints the number of occurrences of a specific word ."
      ],
      "metadata": {
        "id": "ckplHeY9Y4zm"
      }
    },
    {
      "cell_type": "code",
      "source": [
        "def count_word_occurrences(file_path, word):\n",
        "    try:\n",
        "        with open(file_path, \"r\") as file:\n",
        "            content = file.read().lower()  # Read file and convert to lowercase\n",
        "            word_count = content.split().count(word.lower())  # Count occurrences\n",
        "            print(f\"The word '{word}' appears {word_count} times in '{file_path}'.\")\n",
        "    except FileNotFoundError:\n",
        "        print(\"Error: The file does not exist.\")\n",
        "    except Exception as e:\n",
        "        print(f\"An unexpected error occurred: {e}\")\n",
        "\n",
        "# Example usage\n",
        "file_name = \"example.txt\"  # Change this to your file name\n",
        "search_word = \"python\"     # Change this to the word you want to count\n",
        "\n",
        "count_word_occurrences(file_name, search_word)\n"
      ],
      "metadata": {
        "id": "v5FVJo8zZCU9"
      },
      "execution_count": null,
      "outputs": []
    },
    {
      "cell_type": "markdown",
      "source": [
        "22. How can you check if a file is empty before attempting to read its contents ?\n",
        "\n",
        "#Method 1: Using os.path.getsize() (Best Approach)"
      ],
      "metadata": {
        "id": "jhxJmgnGZDiy"
      }
    },
    {
      "cell_type": "code",
      "source": [
        "import os\n",
        "\n",
        "file_path = \"example.txt\"\n",
        "\n",
        "if os.path.exists(file_path) and os.path.getsize(file_path) > 0:\n",
        "    with open(file_path, \"r\") as file:\n",
        "        content = file.read()\n",
        "        print(\"File Content:\\n\", content)\n",
        "else:\n",
        "    print(\"Error: The file is empty or does not exist.\")\n"
      ],
      "metadata": {
        "id": "v5gziat0ZNEA"
      },
      "execution_count": null,
      "outputs": []
    },
    {
      "cell_type": "markdown",
      "source": [
        "#Method 2: Using read() and Checking for Empty Content"
      ],
      "metadata": {
        "id": "GBvNQL0aZQyX"
      }
    },
    {
      "cell_type": "code",
      "source": [
        "with open(\"example.txt\", \"r\") as file:\n",
        "    content = file.read()\n",
        "    if not content:  # If content is empty\n",
        "        print(\"The file is empty.\")\n",
        "    else:\n",
        "        print(\"File Content:\\n\", content)\n"
      ],
      "metadata": {
        "id": "Wg3gmlwaZWtf"
      },
      "execution_count": null,
      "outputs": []
    },
    {
      "cell_type": "markdown",
      "source": [
        "#Method 3: Using peek() in Buffered Mode (Python 3.10+)\n",
        "\n"
      ],
      "metadata": {
        "id": "xXnRBM2UZbBv"
      }
    },
    {
      "cell_type": "code",
      "source": [
        "with open(\"example.txt\", \"rb\") as file:\n",
        "    if not file.peek(1):  # Check if there's at least 1 byte\n",
        "        print(\"The file is empty.\")\n",
        "    else:\n",
        "        print(\"File is not empty.\")\n"
      ],
      "metadata": {
        "id": "wyv0w1p8ZiTC"
      },
      "execution_count": null,
      "outputs": []
    },
    {
      "cell_type": "markdown",
      "source": [
        "23. Write a Python program that writes to a log file when an error occurs during file handling ."
      ],
      "metadata": {
        "id": "gtNHBU_pZnDB"
      }
    },
    {
      "cell_type": "code",
      "source": [
        "import logging\n",
        "\n",
        "# Configure logging\n",
        "logging.basicConfig(filename=\"file_errors.log\", level=logging.ERROR,\n",
        "                    format=\"%(asctime)s - %(levelname)s - %(message)s\")\n",
        "\n",
        "def read_file(file_path):\n",
        "    try:\n",
        "        with open(file_path, \"r\") as file:\n",
        "            content = file.read()\n",
        "            print(\"File Content:\\n\", content)\n",
        "    except FileNotFoundError:\n",
        "        logging.error(f\"File '{file_path}' not found.\")\n",
        "        print(\"Error: The file does not exist.\")\n",
        "    except PermissionError:\n",
        "        logging.error(f\"Permission denied for file '{file_path}'.\")\n",
        "        print(\"Error: Permission denied.\")\n",
        "    except Exception as e:\n",
        "        logging.error(f\"Unexpected error while accessing '{file_path}': {e}\")\n",
        "        print(f\"An unexpected error occurred: {e}\")\n",
        "\n",
        "# Example usage\n",
        "file_name = \"example.txt\"  # Change to a file that may not exist or cause an error\n",
        "read_file(file_name)\n",
        "\n",
        "print(\"Check 'file_errors.log' for error details.\")\n"
      ],
      "metadata": {
        "id": "J-9yQFFPZxHy"
      },
      "execution_count": null,
      "outputs": []
    }
  ]
}